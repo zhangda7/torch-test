{
 "cells": [
  {
   "cell_type": "code",
   "execution_count": 1,
   "metadata": {
    "collapsed": false
   },
   "outputs": [
    {
     "ename": "[string \"th 1_data.lua...\"]:1: malformed number near '1_data.lua'",
     "evalue": "",
     "output_type": "error",
     "traceback": [
      "[string \"th 1_data.lua...\"]:1: malformed number near '1_data.lua'"
     ]
    }
   ],
   "source": [
    "th 1_data.lua"
   ]
  },
  {
   "cell_type": "code",
   "execution_count": 2,
   "metadata": {
    "collapsed": false
   },
   "outputs": [
    {
     "ename": "[string \"local f = function() return dodile '1_data.lu...\"]:1: attempt to call global 'dodile' (a nil value)\nstack traceback:\n\t[string \"local f = function() return dodile '1_data.lu...\"]:1: in function 'f'\n\t[string \"local f = function() return dodile '1_data.lu...\"]:1: in main chunk\n\t[C]: in function 'xpcall'\n\t/home/dada/torch/install/share/lua/5.1/itorch/main.lua:177: in function </home/dada/torch/install/share/lua/5.1/itorch/main.lua:143>\n\t/home/dada/torch/install/share/lua/5.1/lzmq/poller.lua:75: in function 'poll'\n\t/home/dada/torch/install/share/lua/5.1/lzmq/impl/loop.lua:307: in function 'poll'\n\t/home/dada/torch/install/share/lua/5.1/lzmq/impl/loop.lua:325: in function 'sleep_ex'\n\t/home/dada/torch/install/share/lua/5.1/lzmq/impl/loop.lua:370: in function 'start'\n\t/home/dada/torch/install/share/lua/5.1/itorch/main.lua:344: in main chunk\n\t[C]: in function 'require'\n\t[string \"arg={'/home/dada/.ipython/profile_default/sec...\"]:1: in main chunk",
     "evalue": "",
     "output_type": "error",
     "traceback": [
      "[string \"local f = function() return dodile '1_data.lu...\"]:1: attempt to call global 'dodile' (a nil value)\nstack traceback:\n\t[string \"local f = function() return dodile '1_data.lu...\"]:1: in function 'f'\n\t[string \"local f = function() return dodile '1_data.lu...\"]:1: in main chunk\n\t[C]: in function 'xpcall'\n\t/home/dada/torch/install/share/lua/5.1/itorch/main.lua:177: in function </home/dada/torch/install/share/lua/5.1/itorch/main.lua:143>\n\t/home/dada/torch/install/share/lua/5.1/lzmq/poller.lua:75: in function 'poll'\n\t/home/dada/torch/install/share/lua/5.1/lzmq/impl/loop.lua:307: in function 'poll'\n\t/home/dada/torch/install/share/lua/5.1/lzmq/impl/loop.lua:325: in function 'sleep_ex'\n\t/home/dada/torch/install/share/lua/5.1/lzmq/impl/loop.lua:370: in function 'start'\n\t/home/dada/torch/install/share/lua/5.1/itorch/main.lua:344: in main chunk\n\t[C]: in function 'require'\n\t[string \"arg={'/home/dada/.ipython/profile_default/sec...\"]:1: in main chunk"
     ]
    }
   ],
   "source": [
    "dodile '1_data.lua'"
   ]
  },
  {
   "cell_type": "code",
   "execution_count": null,
   "metadata": {
    "collapsed": true
   },
   "outputs": [],
   "source": []
  }
 ],
 "metadata": {
  "kernelspec": {
   "display_name": "iTorch",
   "language": "lua",
   "name": "itorch"
  },
  "language_info": {
   "name": "lua",
   "version": "20100"
  }
 },
 "nbformat": 4,
 "nbformat_minor": 0
}
